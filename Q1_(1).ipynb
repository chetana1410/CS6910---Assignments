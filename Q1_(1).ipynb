{
  "nbformat": 4,
  "nbformat_minor": 0,
  "metadata": {
    "kernelspec": {
      "display_name": "Python 3",
      "language": "python",
      "name": "python3"
    },
    "language_info": {
      "codemirror_mode": {
        "name": "ipython",
        "version": 3
      },
      "file_extension": ".py",
      "mimetype": "text/x-python",
      "name": "python",
      "nbconvert_exporter": "python",
      "pygments_lexer": "ipython3",
      "version": "3.8.8"
    },
    "colab": {
      "name": "Q1 (1).ipynb",
      "provenance": [],
      "collapsed_sections": []
    },
    "accelerator": "GPU"
  },
  "cells": [
    {
      "cell_type": "code",
      "metadata": {
        "colab": {
          "base_uri": "https://localhost:8080/"
        },
        "id": "K7VYfj_Xk9bJ",
        "outputId": "0a31e928-d62b-434b-9a19-89f1f1e007cf"
      },
      "source": [
        "from google.colab import drive\n",
        "drive.mount(\"/content/gdrive\")"
      ],
      "execution_count": 1,
      "outputs": [
        {
          "output_type": "stream",
          "text": [
            "Mounted at /content/gdrive\n"
          ],
          "name": "stdout"
        }
      ]
    },
    {
      "cell_type": "code",
      "metadata": {
        "colab": {
          "base_uri": "https://localhost:8080/"
        },
        "id": "ltqQVZ16228W",
        "outputId": "c1507733-30df-49d1-e6a7-3165d898a58b"
      },
      "source": [
        "! pip install wandb"
      ],
      "execution_count": 2,
      "outputs": [
        {
          "output_type": "stream",
          "text": [
            "Collecting wandb\n",
            "\u001b[?25l  Downloading https://files.pythonhosted.org/packages/f9/64/29b77da604e81607e35479bda8c31aabe8911c284fdad488a9030fa4cc0a/wandb-0.10.23-py2.py3-none-any.whl (2.0MB)\n",
            "\r\u001b[K     |▏                               | 10kB 25.4MB/s eta 0:00:01\r\u001b[K     |▎                               | 20kB 31.5MB/s eta 0:00:01\r\u001b[K     |▌                               | 30kB 27.5MB/s eta 0:00:01\r\u001b[K     |▋                               | 40kB 31.1MB/s eta 0:00:01\r\u001b[K     |▉                               | 51kB 29.9MB/s eta 0:00:01\r\u001b[K     |█                               | 61kB 32.7MB/s eta 0:00:01\r\u001b[K     |█▏                              | 71kB 21.5MB/s eta 0:00:01\r\u001b[K     |█▎                              | 81kB 21.7MB/s eta 0:00:01\r\u001b[K     |█▌                              | 92kB 23.2MB/s eta 0:00:01\r\u001b[K     |█▋                              | 102kB 20.6MB/s eta 0:00:01\r\u001b[K     |█▊                              | 112kB 20.6MB/s eta 0:00:01\r\u001b[K     |██                              | 122kB 20.6MB/s eta 0:00:01\r\u001b[K     |██                              | 133kB 20.6MB/s eta 0:00:01\r\u001b[K     |██▎                             | 143kB 20.6MB/s eta 0:00:01\r\u001b[K     |██▍                             | 153kB 20.6MB/s eta 0:00:01\r\u001b[K     |██▋                             | 163kB 20.6MB/s eta 0:00:01\r\u001b[K     |██▊                             | 174kB 20.6MB/s eta 0:00:01\r\u001b[K     |███                             | 184kB 20.6MB/s eta 0:00:01\r\u001b[K     |███                             | 194kB 20.6MB/s eta 0:00:01\r\u001b[K     |███▏                            | 204kB 20.6MB/s eta 0:00:01\r\u001b[K     |███▍                            | 215kB 20.6MB/s eta 0:00:01\r\u001b[K     |███▌                            | 225kB 20.6MB/s eta 0:00:01\r\u001b[K     |███▊                            | 235kB 20.6MB/s eta 0:00:01\r\u001b[K     |███▉                            | 245kB 20.6MB/s eta 0:00:01\r\u001b[K     |████                            | 256kB 20.6MB/s eta 0:00:01\r\u001b[K     |████▏                           | 266kB 20.6MB/s eta 0:00:01\r\u001b[K     |████▍                           | 276kB 20.6MB/s eta 0:00:01\r\u001b[K     |████▌                           | 286kB 20.6MB/s eta 0:00:01\r\u001b[K     |████▋                           | 296kB 20.6MB/s eta 0:00:01\r\u001b[K     |████▉                           | 307kB 20.6MB/s eta 0:00:01\r\u001b[K     |█████                           | 317kB 20.6MB/s eta 0:00:01\r\u001b[K     |█████▏                          | 327kB 20.6MB/s eta 0:00:01\r\u001b[K     |█████▎                          | 337kB 20.6MB/s eta 0:00:01\r\u001b[K     |█████▌                          | 348kB 20.6MB/s eta 0:00:01\r\u001b[K     |█████▋                          | 358kB 20.6MB/s eta 0:00:01\r\u001b[K     |█████▉                          | 368kB 20.6MB/s eta 0:00:01\r\u001b[K     |██████                          | 378kB 20.6MB/s eta 0:00:01\r\u001b[K     |██████                          | 389kB 20.6MB/s eta 0:00:01\r\u001b[K     |██████▎                         | 399kB 20.6MB/s eta 0:00:01\r\u001b[K     |██████▍                         | 409kB 20.6MB/s eta 0:00:01\r\u001b[K     |██████▋                         | 419kB 20.6MB/s eta 0:00:01\r\u001b[K     |██████▊                         | 430kB 20.6MB/s eta 0:00:01\r\u001b[K     |███████                         | 440kB 20.6MB/s eta 0:00:01\r\u001b[K     |███████                         | 450kB 20.6MB/s eta 0:00:01\r\u001b[K     |███████▎                        | 460kB 20.6MB/s eta 0:00:01\r\u001b[K     |███████▍                        | 471kB 20.6MB/s eta 0:00:01\r\u001b[K     |███████▌                        | 481kB 20.6MB/s eta 0:00:01\r\u001b[K     |███████▊                        | 491kB 20.6MB/s eta 0:00:01\r\u001b[K     |███████▉                        | 501kB 20.6MB/s eta 0:00:01\r\u001b[K     |████████                        | 512kB 20.6MB/s eta 0:00:01\r\u001b[K     |████████▏                       | 522kB 20.6MB/s eta 0:00:01\r\u001b[K     |████████▍                       | 532kB 20.6MB/s eta 0:00:01\r\u001b[K     |████████▌                       | 542kB 20.6MB/s eta 0:00:01\r\u001b[K     |████████▊                       | 552kB 20.6MB/s eta 0:00:01\r\u001b[K     |████████▉                       | 563kB 20.6MB/s eta 0:00:01\r\u001b[K     |█████████                       | 573kB 20.6MB/s eta 0:00:01\r\u001b[K     |█████████▏                      | 583kB 20.6MB/s eta 0:00:01\r\u001b[K     |█████████▎                      | 593kB 20.6MB/s eta 0:00:01\r\u001b[K     |█████████▌                      | 604kB 20.6MB/s eta 0:00:01\r\u001b[K     |█████████▋                      | 614kB 20.6MB/s eta 0:00:01\r\u001b[K     |█████████▉                      | 624kB 20.6MB/s eta 0:00:01\r\u001b[K     |██████████                      | 634kB 20.6MB/s eta 0:00:01\r\u001b[K     |██████████▏                     | 645kB 20.6MB/s eta 0:00:01\r\u001b[K     |██████████▎                     | 655kB 20.6MB/s eta 0:00:01\r\u001b[K     |██████████▌                     | 665kB 20.6MB/s eta 0:00:01\r\u001b[K     |██████████▋                     | 675kB 20.6MB/s eta 0:00:01\r\u001b[K     |██████████▊                     | 686kB 20.6MB/s eta 0:00:01\r\u001b[K     |███████████                     | 696kB 20.6MB/s eta 0:00:01\r\u001b[K     |███████████                     | 706kB 20.6MB/s eta 0:00:01\r\u001b[K     |███████████▎                    | 716kB 20.6MB/s eta 0:00:01\r\u001b[K     |███████████▍                    | 727kB 20.6MB/s eta 0:00:01\r\u001b[K     |███████████▋                    | 737kB 20.6MB/s eta 0:00:01\r\u001b[K     |███████████▊                    | 747kB 20.6MB/s eta 0:00:01\r\u001b[K     |████████████                    | 757kB 20.6MB/s eta 0:00:01\r\u001b[K     |████████████                    | 768kB 20.6MB/s eta 0:00:01\r\u001b[K     |████████████▏                   | 778kB 20.6MB/s eta 0:00:01\r\u001b[K     |████████████▍                   | 788kB 20.6MB/s eta 0:00:01\r\u001b[K     |████████████▌                   | 798kB 20.6MB/s eta 0:00:01\r\u001b[K     |████████████▊                   | 808kB 20.6MB/s eta 0:00:01\r\u001b[K     |████████████▉                   | 819kB 20.6MB/s eta 0:00:01\r\u001b[K     |█████████████                   | 829kB 20.6MB/s eta 0:00:01\r\u001b[K     |█████████████▏                  | 839kB 20.6MB/s eta 0:00:01\r\u001b[K     |█████████████▍                  | 849kB 20.6MB/s eta 0:00:01\r\u001b[K     |█████████████▌                  | 860kB 20.6MB/s eta 0:00:01\r\u001b[K     |█████████████▋                  | 870kB 20.6MB/s eta 0:00:01\r\u001b[K     |█████████████▉                  | 880kB 20.6MB/s eta 0:00:01\r\u001b[K     |██████████████                  | 890kB 20.6MB/s eta 0:00:01\r\u001b[K     |██████████████▏                 | 901kB 20.6MB/s eta 0:00:01\r\u001b[K     |██████████████▎                 | 911kB 20.6MB/s eta 0:00:01\r\u001b[K     |██████████████▌                 | 921kB 20.6MB/s eta 0:00:01\r\u001b[K     |██████████████▋                 | 931kB 20.6MB/s eta 0:00:01\r\u001b[K     |██████████████▉                 | 942kB 20.6MB/s eta 0:00:01\r\u001b[K     |███████████████                 | 952kB 20.6MB/s eta 0:00:01\r\u001b[K     |███████████████                 | 962kB 20.6MB/s eta 0:00:01\r\u001b[K     |███████████████▎                | 972kB 20.6MB/s eta 0:00:01\r\u001b[K     |███████████████▍                | 983kB 20.6MB/s eta 0:00:01\r\u001b[K     |███████████████▋                | 993kB 20.6MB/s eta 0:00:01\r\u001b[K     |███████████████▊                | 1.0MB 20.6MB/s eta 0:00:01\r\u001b[K     |████████████████                | 1.0MB 20.6MB/s eta 0:00:01\r\u001b[K     |████████████████                | 1.0MB 20.6MB/s eta 0:00:01\r\u001b[K     |████████████████▎               | 1.0MB 20.6MB/s eta 0:00:01\r\u001b[K     |████████████████▍               | 1.0MB 20.6MB/s eta 0:00:01\r\u001b[K     |████████████████▌               | 1.1MB 20.6MB/s eta 0:00:01\r\u001b[K     |████████████████▊               | 1.1MB 20.6MB/s eta 0:00:01\r\u001b[K     |████████████████▉               | 1.1MB 20.6MB/s eta 0:00:01\r\u001b[K     |█████████████████               | 1.1MB 20.6MB/s eta 0:00:01\r\u001b[K     |█████████████████▏              | 1.1MB 20.6MB/s eta 0:00:01\r\u001b[K     |█████████████████▍              | 1.1MB 20.6MB/s eta 0:00:01\r\u001b[K     |█████████████████▌              | 1.1MB 20.6MB/s eta 0:00:01\r\u001b[K     |█████████████████▊              | 1.1MB 20.6MB/s eta 0:00:01\r\u001b[K     |█████████████████▉              | 1.1MB 20.6MB/s eta 0:00:01\r\u001b[K     |██████████████████              | 1.1MB 20.6MB/s eta 0:00:01\r\u001b[K     |██████████████████▏             | 1.2MB 20.6MB/s eta 0:00:01\r\u001b[K     |██████████████████▎             | 1.2MB 20.6MB/s eta 0:00:01\r\u001b[K     |██████████████████▌             | 1.2MB 20.6MB/s eta 0:00:01\r\u001b[K     |██████████████████▋             | 1.2MB 20.6MB/s eta 0:00:01\r\u001b[K     |██████████████████▉             | 1.2MB 20.6MB/s eta 0:00:01\r\u001b[K     |███████████████████             | 1.2MB 20.6MB/s eta 0:00:01\r\u001b[K     |███████████████████▏            | 1.2MB 20.6MB/s eta 0:00:01\r\u001b[K     |███████████████████▎            | 1.2MB 20.6MB/s eta 0:00:01\r\u001b[K     |███████████████████▌            | 1.2MB 20.6MB/s eta 0:00:01\r\u001b[K     |███████████████████▋            | 1.2MB 20.6MB/s eta 0:00:01\r\u001b[K     |███████████████████▊            | 1.3MB 20.6MB/s eta 0:00:01\r\u001b[K     |████████████████████            | 1.3MB 20.6MB/s eta 0:00:01\r\u001b[K     |████████████████████            | 1.3MB 20.6MB/s eta 0:00:01\r\u001b[K     |████████████████████▎           | 1.3MB 20.6MB/s eta 0:00:01\r\u001b[K     |████████████████████▍           | 1.3MB 20.6MB/s eta 0:00:01\r\u001b[K     |████████████████████▋           | 1.3MB 20.6MB/s eta 0:00:01\r\u001b[K     |████████████████████▊           | 1.3MB 20.6MB/s eta 0:00:01\r\u001b[K     |█████████████████████           | 1.3MB 20.6MB/s eta 0:00:01\r\u001b[K     |█████████████████████           | 1.3MB 20.6MB/s eta 0:00:01\r\u001b[K     |█████████████████████▏          | 1.4MB 20.6MB/s eta 0:00:01\r\u001b[K     |█████████████████████▍          | 1.4MB 20.6MB/s eta 0:00:01\r\u001b[K     |█████████████████████▌          | 1.4MB 20.6MB/s eta 0:00:01\r\u001b[K     |█████████████████████▊          | 1.4MB 20.6MB/s eta 0:00:01\r\u001b[K     |█████████████████████▉          | 1.4MB 20.6MB/s eta 0:00:01\r\u001b[K     |██████████████████████          | 1.4MB 20.6MB/s eta 0:00:01\r\u001b[K     |██████████████████████▏         | 1.4MB 20.6MB/s eta 0:00:01\r\u001b[K     |██████████████████████▍         | 1.4MB 20.6MB/s eta 0:00:01\r\u001b[K     |██████████████████████▌         | 1.4MB 20.6MB/s eta 0:00:01\r\u001b[K     |██████████████████████▋         | 1.4MB 20.6MB/s eta 0:00:01\r\u001b[K     |██████████████████████▉         | 1.5MB 20.6MB/s eta 0:00:01\r\u001b[K     |███████████████████████         | 1.5MB 20.6MB/s eta 0:00:01\r\u001b[K     |███████████████████████▏        | 1.5MB 20.6MB/s eta 0:00:01\r\u001b[K     |███████████████████████▎        | 1.5MB 20.6MB/s eta 0:00:01\r\u001b[K     |███████████████████████▌        | 1.5MB 20.6MB/s eta 0:00:01\r\u001b[K     |███████████████████████▋        | 1.5MB 20.6MB/s eta 0:00:01\r\u001b[K     |███████████████████████▉        | 1.5MB 20.6MB/s eta 0:00:01\r\u001b[K     |████████████████████████        | 1.5MB 20.6MB/s eta 0:00:01\r\u001b[K     |████████████████████████        | 1.5MB 20.6MB/s eta 0:00:01\r\u001b[K     |████████████████████████▎       | 1.5MB 20.6MB/s eta 0:00:01\r\u001b[K     |████████████████████████▍       | 1.6MB 20.6MB/s eta 0:00:01\r\u001b[K     |████████████████████████▋       | 1.6MB 20.6MB/s eta 0:00:01\r\u001b[K     |████████████████████████▊       | 1.6MB 20.6MB/s eta 0:00:01\r\u001b[K     |█████████████████████████       | 1.6MB 20.6MB/s eta 0:00:01\r\u001b[K     |█████████████████████████       | 1.6MB 20.6MB/s eta 0:00:01\r\u001b[K     |█████████████████████████▎      | 1.6MB 20.6MB/s eta 0:00:01\r\u001b[K     |█████████████████████████▍      | 1.6MB 20.6MB/s eta 0:00:01\r\u001b[K     |█████████████████████████▌      | 1.6MB 20.6MB/s eta 0:00:01\r\u001b[K     |█████████████████████████▊      | 1.6MB 20.6MB/s eta 0:00:01\r\u001b[K     |█████████████████████████▉      | 1.6MB 20.6MB/s eta 0:00:01\r\u001b[K     |██████████████████████████      | 1.7MB 20.6MB/s eta 0:00:01\r\u001b[K     |██████████████████████████▏     | 1.7MB 20.6MB/s eta 0:00:01\r\u001b[K     |██████████████████████████▍     | 1.7MB 20.6MB/s eta 0:00:01\r\u001b[K     |██████████████████████████▌     | 1.7MB 20.6MB/s eta 0:00:01\r\u001b[K     |██████████████████████████▊     | 1.7MB 20.6MB/s eta 0:00:01\r\u001b[K     |██████████████████████████▉     | 1.7MB 20.6MB/s eta 0:00:01\r\u001b[K     |███████████████████████████     | 1.7MB 20.6MB/s eta 0:00:01\r\u001b[K     |███████████████████████████▏    | 1.7MB 20.6MB/s eta 0:00:01\r\u001b[K     |███████████████████████████▎    | 1.7MB 20.6MB/s eta 0:00:01\r\u001b[K     |███████████████████████████▌    | 1.8MB 20.6MB/s eta 0:00:01\r\u001b[K     |███████████████████████████▋    | 1.8MB 20.6MB/s eta 0:00:01\r\u001b[K     |███████████████████████████▉    | 1.8MB 20.6MB/s eta 0:00:01\r\u001b[K     |████████████████████████████    | 1.8MB 20.6MB/s eta 0:00:01\r\u001b[K     |████████████████████████████▏   | 1.8MB 20.6MB/s eta 0:00:01\r\u001b[K     |████████████████████████████▎   | 1.8MB 20.6MB/s eta 0:00:01\r\u001b[K     |████████████████████████████▌   | 1.8MB 20.6MB/s eta 0:00:01\r\u001b[K     |████████████████████████████▋   | 1.8MB 20.6MB/s eta 0:00:01\r\u001b[K     |████████████████████████████▊   | 1.8MB 20.6MB/s eta 0:00:01\r\u001b[K     |█████████████████████████████   | 1.8MB 20.6MB/s eta 0:00:01\r\u001b[K     |█████████████████████████████   | 1.9MB 20.6MB/s eta 0:00:01\r\u001b[K     |█████████████████████████████▎  | 1.9MB 20.6MB/s eta 0:00:01\r\u001b[K     |█████████████████████████████▍  | 1.9MB 20.6MB/s eta 0:00:01\r\u001b[K     |█████████████████████████████▋  | 1.9MB 20.6MB/s eta 0:00:01\r\u001b[K     |█████████████████████████████▊  | 1.9MB 20.6MB/s eta 0:00:01\r\u001b[K     |██████████████████████████████  | 1.9MB 20.6MB/s eta 0:00:01\r\u001b[K     |██████████████████████████████  | 1.9MB 20.6MB/s eta 0:00:01\r\u001b[K     |██████████████████████████████▏ | 1.9MB 20.6MB/s eta 0:00:01\r\u001b[K     |██████████████████████████████▍ | 1.9MB 20.6MB/s eta 0:00:01\r\u001b[K     |██████████████████████████████▌ | 1.9MB 20.6MB/s eta 0:00:01\r\u001b[K     |██████████████████████████████▊ | 2.0MB 20.6MB/s eta 0:00:01\r\u001b[K     |██████████████████████████████▉ | 2.0MB 20.6MB/s eta 0:00:01\r\u001b[K     |███████████████████████████████ | 2.0MB 20.6MB/s eta 0:00:01\r\u001b[K     |███████████████████████████████▏| 2.0MB 20.6MB/s eta 0:00:01\r\u001b[K     |███████████████████████████████▍| 2.0MB 20.6MB/s eta 0:00:01\r\u001b[K     |███████████████████████████████▌| 2.0MB 20.6MB/s eta 0:00:01\r\u001b[K     |███████████████████████████████▋| 2.0MB 20.6MB/s eta 0:00:01\r\u001b[K     |███████████████████████████████▉| 2.0MB 20.6MB/s eta 0:00:01\r\u001b[K     |████████████████████████████████| 2.0MB 20.6MB/s eta 0:00:01\r\u001b[K     |████████████████████████████████| 2.0MB 20.6MB/s \n",
            "\u001b[?25hRequirement already satisfied: requests<3,>=2.0.0 in /usr/local/lib/python3.7/dist-packages (from wandb) (2.23.0)\n",
            "Requirement already satisfied: python-dateutil>=2.6.1 in /usr/local/lib/python3.7/dist-packages (from wandb) (2.8.1)\n",
            "Requirement already satisfied: psutil>=5.0.0 in /usr/local/lib/python3.7/dist-packages (from wandb) (5.4.8)\n",
            "Requirement already satisfied: protobuf>=3.12.0 in /usr/local/lib/python3.7/dist-packages (from wandb) (3.12.4)\n",
            "Requirement already satisfied: six>=1.13.0 in /usr/local/lib/python3.7/dist-packages (from wandb) (1.15.0)\n",
            "Collecting shortuuid>=0.5.0\n",
            "  Downloading https://files.pythonhosted.org/packages/25/a6/2ecc1daa6a304e7f1b216f0896b26156b78e7c38e1211e9b798b4716c53d/shortuuid-1.0.1-py3-none-any.whl\n",
            "Collecting pathtools\n",
            "  Downloading https://files.pythonhosted.org/packages/e7/7f/470d6fcdf23f9f3518f6b0b76be9df16dcc8630ad409947f8be2eb0ed13a/pathtools-0.1.2.tar.gz\n",
            "Collecting configparser>=3.8.1\n",
            "  Downloading https://files.pythonhosted.org/packages/fd/01/ff260a18caaf4457eb028c96eeb405c4a230ca06c8ec9c1379f813caa52e/configparser-5.0.2-py3-none-any.whl\n",
            "Requirement already satisfied: Click>=7.0 in /usr/local/lib/python3.7/dist-packages (from wandb) (7.1.2)\n",
            "Collecting subprocess32>=3.5.3\n",
            "\u001b[?25l  Downloading https://files.pythonhosted.org/packages/32/c8/564be4d12629b912ea431f1a50eb8b3b9d00f1a0b1ceff17f266be190007/subprocess32-3.5.4.tar.gz (97kB)\n",
            "\u001b[K     |████████████████████████████████| 102kB 13.8MB/s \n",
            "\u001b[?25hRequirement already satisfied: PyYAML in /usr/local/lib/python3.7/dist-packages (from wandb) (3.13)\n",
            "Requirement already satisfied: promise<3,>=2.0 in /usr/local/lib/python3.7/dist-packages (from wandb) (2.3)\n",
            "Collecting GitPython>=1.0.0\n",
            "\u001b[?25l  Downloading https://files.pythonhosted.org/packages/a6/99/98019716955ba243657daedd1de8f3a88ca1f5b75057c38e959db22fb87b/GitPython-3.1.14-py3-none-any.whl (159kB)\n",
            "\u001b[K     |████████████████████████████████| 163kB 54.9MB/s \n",
            "\u001b[?25hCollecting docker-pycreds>=0.4.0\n",
            "  Downloading https://files.pythonhosted.org/packages/f5/e8/f6bd1eee09314e7e6dee49cbe2c5e22314ccdb38db16c9fc72d2fa80d054/docker_pycreds-0.4.0-py2.py3-none-any.whl\n",
            "Collecting sentry-sdk>=0.4.0\n",
            "\u001b[?25l  Downloading https://files.pythonhosted.org/packages/f3/92/5a33be64990ba815364a8f2dd9e6f51de60d23dfddafb4f1fc5577d4dc64/sentry_sdk-1.0.0-py2.py3-none-any.whl (131kB)\n",
            "\u001b[K     |████████████████████████████████| 133kB 59.0MB/s \n",
            "\u001b[?25hRequirement already satisfied: urllib3!=1.25.0,!=1.25.1,<1.26,>=1.21.1 in /usr/local/lib/python3.7/dist-packages (from requests<3,>=2.0.0->wandb) (1.24.3)\n",
            "Requirement already satisfied: chardet<4,>=3.0.2 in /usr/local/lib/python3.7/dist-packages (from requests<3,>=2.0.0->wandb) (3.0.4)\n",
            "Requirement already satisfied: certifi>=2017.4.17 in /usr/local/lib/python3.7/dist-packages (from requests<3,>=2.0.0->wandb) (2020.12.5)\n",
            "Requirement already satisfied: idna<3,>=2.5 in /usr/local/lib/python3.7/dist-packages (from requests<3,>=2.0.0->wandb) (2.10)\n",
            "Requirement already satisfied: setuptools in /usr/local/lib/python3.7/dist-packages (from protobuf>=3.12.0->wandb) (54.2.0)\n",
            "Collecting gitdb<5,>=4.0.1\n",
            "\u001b[?25l  Downloading https://files.pythonhosted.org/packages/ea/e8/f414d1a4f0bbc668ed441f74f44c116d9816833a48bf81d22b697090dba8/gitdb-4.0.7-py3-none-any.whl (63kB)\n",
            "\u001b[K     |████████████████████████████████| 71kB 10.3MB/s \n",
            "\u001b[?25hCollecting smmap<5,>=3.0.1\n",
            "  Downloading https://files.pythonhosted.org/packages/68/ee/d540eb5e5996eb81c26ceffac6ee49041d473bc5125f2aa995cf51ec1cf1/smmap-4.0.0-py2.py3-none-any.whl\n",
            "Building wheels for collected packages: pathtools, subprocess32\n",
            "  Building wheel for pathtools (setup.py) ... \u001b[?25l\u001b[?25hdone\n",
            "  Created wheel for pathtools: filename=pathtools-0.1.2-cp37-none-any.whl size=8786 sha256=c1c8bfe93e3d93edadc5608c04a7ac725c2efca837feea774061220ff1149c41\n",
            "  Stored in directory: /root/.cache/pip/wheels/0b/04/79/c3b0c3a0266a3cb4376da31e5bfe8bba0c489246968a68e843\n",
            "  Building wheel for subprocess32 (setup.py) ... \u001b[?25l\u001b[?25hdone\n",
            "  Created wheel for subprocess32: filename=subprocess32-3.5.4-cp37-none-any.whl size=6489 sha256=1fb2b02ae431d13db83865dcc20205b9a33e128b9642cd6118893bbb72578da0\n",
            "  Stored in directory: /root/.cache/pip/wheels/68/39/1a/5e402bdfdf004af1786c8b853fd92f8c4a04f22aad179654d1\n",
            "Successfully built pathtools subprocess32\n",
            "Installing collected packages: shortuuid, pathtools, configparser, subprocess32, smmap, gitdb, GitPython, docker-pycreds, sentry-sdk, wandb\n",
            "Successfully installed GitPython-3.1.14 configparser-5.0.2 docker-pycreds-0.4.0 gitdb-4.0.7 pathtools-0.1.2 sentry-sdk-1.0.0 shortuuid-1.0.1 smmap-4.0.0 subprocess32-3.5.4 wandb-0.10.23\n"
          ],
          "name": "stdout"
        }
      ]
    },
    {
      "cell_type": "code",
      "metadata": {
        "id": "stb8DQGnkoil"
      },
      "source": [
        "import keras\n",
        "from keras.models import Sequential\n",
        "from keras.layers import Dense, Conv2D, Flatten,BatchNormalization,Dropout,Activation ,MaxPooling2D\n",
        "from keras.preprocessing.image import ImageDataGenerator\n",
        "from keras.losses import CategoricalCrossentropy\n",
        "import PIL\n",
        "import wandb\n",
        "from wandb.keras import WandbCallback\n",
        "from keras.callbacks import EarlyStopping\n",
        "from keras import optimizers"
      ],
      "execution_count": 3,
      "outputs": []
    },
    {
      "cell_type": "code",
      "metadata": {
        "colab": {
          "base_uri": "https://localhost:8080/",
          "height": 102
        },
        "id": "DRyzdchFkoiw",
        "outputId": "7bba375f-a1c1-4173-9d40-3101a560e27d"
      },
      "source": [
        "wandb.login()"
      ],
      "execution_count": 4,
      "outputs": [
        {
          "output_type": "display_data",
          "data": {
            "application/javascript": [
              "\n",
              "        window._wandbApiKey = new Promise((resolve, reject) => {\n",
              "            function loadScript(url) {\n",
              "            return new Promise(function(resolve, reject) {\n",
              "                let newScript = document.createElement(\"script\");\n",
              "                newScript.onerror = reject;\n",
              "                newScript.onload = resolve;\n",
              "                document.body.appendChild(newScript);\n",
              "                newScript.src = url;\n",
              "            });\n",
              "            }\n",
              "            loadScript(\"https://cdn.jsdelivr.net/npm/postmate/build/postmate.min.js\").then(() => {\n",
              "            const iframe = document.createElement('iframe')\n",
              "            iframe.style.cssText = \"width:0;height:0;border:none\"\n",
              "            document.body.appendChild(iframe)\n",
              "            const handshake = new Postmate({\n",
              "                container: iframe,\n",
              "                url: 'https://wandb.ai/authorize'\n",
              "            });\n",
              "            const timeout = setTimeout(() => reject(\"Couldn't auto authenticate\"), 5000)\n",
              "            handshake.then(function(child) {\n",
              "                child.on('authorize', data => {\n",
              "                    clearTimeout(timeout)\n",
              "                    resolve(data)\n",
              "                });\n",
              "            });\n",
              "            })\n",
              "        });\n",
              "    "
            ],
            "text/plain": [
              "<IPython.core.display.Javascript object>"
            ]
          },
          "metadata": {
            "tags": []
          }
        },
        {
          "output_type": "stream",
          "text": [
            "\u001b[34m\u001b[1mwandb\u001b[0m: You can find your API key in your browser here: https://wandb.ai/authorize\n"
          ],
          "name": "stderr"
        },
        {
          "output_type": "stream",
          "text": [
            "wandb: Paste an API key from your profile and hit enter: ··········\n"
          ],
          "name": "stdout"
        },
        {
          "output_type": "stream",
          "text": [
            "\u001b[34m\u001b[1mwandb\u001b[0m: Appending key for api.wandb.ai to your netrc file: /root/.netrc\n"
          ],
          "name": "stderr"
        },
        {
          "output_type": "execute_result",
          "data": {
            "text/plain": [
              "True"
            ]
          },
          "metadata": {
            "tags": []
          },
          "execution_count": 4
        }
      ]
    },
    {
      "cell_type": "code",
      "metadata": {
        "id": "EFhyHkxekoi5"
      },
      "source": [
        "def cnn(n,num_filters,ker_size_input,ker_size,activ,pool,num_nodes,filter_org,bn_vs_dp,bn=0,dp='no'):\n",
        "  \n",
        "\n",
        "  model = Sequential()\n",
        "  model.add(Conv2D(num_filters, (ker_size_input, ker_size_input), input_shape=(224,224,3)))\n",
        "  model.add(Activation(activ))\n",
        "  model.add(MaxPooling2D(pool_size=(pool, pool)))\n",
        "\n",
        "  for i in range(1,n):\n",
        "  \n",
        "    if filter_org=='same':\n",
        "      num_filters= num_filters\n",
        "    elif filter_org=='double':\n",
        "      num_filters*=2\n",
        "    else:\n",
        "      num_filters//=2\n",
        "      \n",
        "        \n",
        "    model.add(Conv2D(num_filters, (ker_size, ker_size)))\n",
        "\n",
        "    if bn:\n",
        "        model.add(BatchNormalization())\n",
        "        \n",
        "    model.add(Activation(activ))\n",
        "    model.add(MaxPooling2D(pool_size=(pool, pool)))\n",
        "      \n",
        "  model.add(Flatten())\n",
        "  model.add(Dense(num_nodes))\n",
        "  \n",
        "  if bn_vs_dp == 'dp':\n",
        "    model.add(Dropout(dp))\n",
        "  else:\n",
        "    model.add(BatchNormalization())\n",
        "\n",
        "  model.add(Activation(activ))\n",
        "      \n",
        "  model.add(Dense(10, activation='softmax'))\n",
        "\n",
        "  return model\n",
        "\n",
        "\n"
      ],
      "execution_count": 17,
      "outputs": []
    },
    {
      "cell_type": "code",
      "metadata": {
        "id": "ohRXaYp_koi9"
      },
      "source": [
        "def train():\n",
        "  default_hyperparams = dict(\n",
        "    bn=0,\n",
        "    num_filters=64,\n",
        "    fliter_org='same',\n",
        "    dropout=0,\n",
        "    data_aug=0,\n",
        "    learning_rate=0.01,\n",
        "    epochs=5,\n",
        "    activ=\"ReLU\",\n",
        "    optimizer = 'Adam',\n",
        "    batch_size=32,\n",
        "    ker_size_input=5,\n",
        "    bn_vs_dp='bn'\n",
        "  )\n",
        "\n",
        "    \n",
        "    \n",
        "  wandb.init(config = default_hyperparams)\n",
        "  config = wandb.config\n",
        "\n",
        "  train_data_dir= '/content/gdrive/MyDrive/inaturalist_12K/train'\n",
        "\n",
        "  batch_size=config.batch_size\n",
        "\n",
        "  if config.data_aug:\n",
        "      \n",
        "    train_datagen = ImageDataGenerator(\n",
        "    rescale=1./255,\n",
        "    rotation_range=45, \n",
        "    width_shift_range=.15, \n",
        "    height_shift_range=.15, \n",
        "    horizontal_flip=True, \n",
        "    zoom_range=0.5,\n",
        "    validation_split=0.1) \n",
        "\n",
        "  else:\n",
        "      \n",
        "    train_datagen = ImageDataGenerator(\n",
        "    rescale=1./255,\n",
        "    validation_split=0.1) # set validation split\n",
        "  \n",
        "    \n",
        "\n",
        "  train_it = train_datagen.flow_from_directory(\n",
        "      train_data_dir,\n",
        "      target_size=(224,224),\n",
        "      batch_size=batch_size,\n",
        "      class_mode='categorical',\n",
        "      subset='training') # set as training data\n",
        "\n",
        "  val_it = train_datagen.flow_from_directory(\n",
        "      train_data_dir, # same directory as training data\n",
        "      target_size=(224,224),\n",
        "      batch_size=batch_size,\n",
        "      class_mode='categorical',\n",
        "      subset='validation') # set as validation data\n",
        "  \n",
        "  # Your model here ...\n",
        "  model = cnn(5,config.num_filters,config.ker_size_input,3,config.activ,2,1024,config.filter_org,config.bn_vs_dp,config.bn,config.dropout)\n",
        "\n",
        "  if config.optimizer == 'Adam':\n",
        "    model.compile(optimizers.Adam(lr=config.learning_rate, decay=1e-6), loss=CategoricalCrossentropy(), metrics='acc')\n",
        "  elif config.optimizer == 'rmsprop':\n",
        "    model.compile(optimizers.RMSprop(lr=config.learning_rate, decay=1e-6), loss=CategoricalCrossentropy(), metrics='acc')\n",
        "  else:\n",
        "     model.compile(optimizers.SGD(lr=config.learning_rate, decay=1e-6), loss=CategoricalCrossentropy(), metrics='acc')\n",
        "  \n",
        "  model.fit(\n",
        "  train_it,\n",
        "  steps_per_epoch = train_it.samples //batch_size,\n",
        "  validation_data = val_it, \n",
        "  validation_steps = val_it.samples // batch_size,\n",
        "  epochs = config.epochs,\n",
        "  callbacks=[WandbCallback(data_type='image',validation_data = val_it,verbose=1),EarlyStopping(patience=10,restore_best_weights=True)])\n",
        "  #train_loss,train_accuracy = model.evaluate(train_it, callbacks=[WandbCallback()])\n",
        "  #val_loss, val_accuracy = model.evaluate(val_it, callbacks=[WandbCallback()])\n",
        "  #wandb.log({'val_loss':val_loss,'val_accuracy':val_accuracy*100,'train_loss': train_loss,'train_accuracy':train_accuracy*100 }) # wandb.log to track custom metrics"
      ],
      "execution_count": 18,
      "outputs": []
    },
    {
      "cell_type": "code",
      "metadata": {
        "colab": {
          "base_uri": "https://localhost:8080/"
        },
        "id": "d2yCpAt9koi_",
        "outputId": "76fc4fa3-4e2a-488e-e03f-70456f4dfe2b"
      },
      "source": [
        "\n",
        "sweep_config = {\n",
        "   #'program': train(),\n",
        "    'method': 'bayes',         \n",
        "    'metric': {\n",
        "        'name': 'val_accuracy',     \n",
        "        'goal': 'maximize'      \n",
        "    },\n",
        "    'parameters': {\n",
        "        'learning_rate': {\n",
        "            'values': [1e-3,1e-4]\n",
        "        },\n",
        "        'activ': {\n",
        "            'values': ['relu']\n",
        "        },\n",
        "        'bn': {\n",
        "            'values': [0,1]\n",
        "        },\n",
        "        'num_filters': {\n",
        "            'values': [32,64]\n",
        "        },\n",
        "        'filter_org': {\n",
        "            'values': ['double']\n",
        "        },\n",
        "        'epochs': {\n",
        "            'values':[5]\n",
        "\n",
        "        },\n",
        "        'dropout': {\n",
        "            'values': [0,0.2,0.3]\n",
        "        },\n",
        "        'data_aug': {\n",
        "            'values': [0,1]\n",
        "        },\n",
        "        'optimizer' : {\n",
        "            'values': ['Adam','rmsprop','sgd']\n",
        "        },\n",
        "\n",
        "        'batch_size': {\n",
        "            'values': [32]\n",
        "        },\n",
        "        'ker_size_input':{\n",
        "            'values':[5,7]\n",
        "        },\n",
        "        'bn_vs_dp':{\n",
        "            'values':['bn,dp']\n",
        "        }\n",
        "\n",
        "        }\n",
        "    }\n",
        "\n",
        "\n",
        "sweep_id = wandb.sweep(sweep_config,project='asgn2 q1 1')\n",
        "\n",
        "wandb.agent(sweep_id, function=train)"
      ],
      "execution_count": 20,
      "outputs": [
        {
          "output_type": "stream",
          "text": [
            "\u001b[34m\u001b[1mwandb\u001b[0m: \u001b[33mWARNING\u001b[0m Calling wandb.login() after wandb.init() has no effect.\n",
            "\u001b[34m\u001b[1mwandb\u001b[0m: \u001b[33mWARNING\u001b[0m Calling wandb.login() after wandb.init() has no effect.\n"
          ],
          "name": "stderr"
        },
        {
          "output_type": "stream",
          "text": [
            "Create sweep with ID: ncgbddq5\n",
            "Sweep URL: https://wandb.ai/dl_assgn/asgn2%20q1%201/sweeps/ncgbddq5\n"
          ],
          "name": "stdout"
        },
        {
          "output_type": "stream",
          "text": [
            "\u001b[34m\u001b[1mwandb\u001b[0m: Agent Starting Run: sniiglms with config:\n",
            "\u001b[34m\u001b[1mwandb\u001b[0m: \tactiv: relu\n",
            "\u001b[34m\u001b[1mwandb\u001b[0m: \tbatch_size: 32\n",
            "\u001b[34m\u001b[1mwandb\u001b[0m: \tbn: 1\n",
            "\u001b[34m\u001b[1mwandb\u001b[0m: \tbn_vs_dp: bn,dp\n",
            "\u001b[34m\u001b[1mwandb\u001b[0m: \tdata_aug: 0\n",
            "\u001b[34m\u001b[1mwandb\u001b[0m: \tdropout: 0.3\n",
            "\u001b[34m\u001b[1mwandb\u001b[0m: \tepochs: 5\n",
            "\u001b[34m\u001b[1mwandb\u001b[0m: \tfilter_org: double\n",
            "\u001b[34m\u001b[1mwandb\u001b[0m: \tker_size_input: 7\n",
            "\u001b[34m\u001b[1mwandb\u001b[0m: \tlearning_rate: 0.0001\n",
            "\u001b[34m\u001b[1mwandb\u001b[0m: \tnum_filters: 64\n",
            "\u001b[34m\u001b[1mwandb\u001b[0m: \toptimizer: sgd\n",
            "\u001b[34m\u001b[1mwandb\u001b[0m: Ctrl + C detected. Stopping sweep.\n",
            "Failed to detect the name of this notebook, you can set it manually with the WANDB_NOTEBOOK_NAME environment variable to enable code saving.\n"
          ],
          "name": "stderr"
        }
      ]
    },
    {
      "cell_type": "code",
      "metadata": {
        "id": "C_-IBBm5kojB"
      },
      "source": [
        ""
      ],
      "execution_count": 7,
      "outputs": []
    },
    {
      "cell_type": "code",
      "metadata": {
        "id": "pIAOkQdckojD"
      },
      "source": [
        ""
      ],
      "execution_count": 7,
      "outputs": []
    },
    {
      "cell_type": "code",
      "metadata": {
        "colab": {
          "base_uri": "https://localhost:8080/",
          "height": 163
        },
        "id": "mQ71d0-IjpZx",
        "outputId": "dc1d6348-5e15-44f1-ce07-285fe2cf7469"
      },
      "source": [
        "predict=model.predict(test_it, steps = len(test_it.filenames),verbose=1)"
      ],
      "execution_count": 8,
      "outputs": [
        {
          "output_type": "error",
          "ename": "NameError",
          "evalue": "ignored",
          "traceback": [
            "\u001b[0;31m---------------------------------------------------------------------------\u001b[0m",
            "\u001b[0;31mNameError\u001b[0m                                 Traceback (most recent call last)",
            "\u001b[0;32m<ipython-input-8-2d3d32d35ddb>\u001b[0m in \u001b[0;36m<module>\u001b[0;34m()\u001b[0m\n\u001b[0;32m----> 1\u001b[0;31m \u001b[0mpredict\u001b[0m\u001b[0;34m=\u001b[0m\u001b[0mmodel\u001b[0m\u001b[0;34m.\u001b[0m\u001b[0mpredict\u001b[0m\u001b[0;34m(\u001b[0m\u001b[0mtest_it\u001b[0m\u001b[0;34m,\u001b[0m \u001b[0msteps\u001b[0m \u001b[0;34m=\u001b[0m \u001b[0mlen\u001b[0m\u001b[0;34m(\u001b[0m\u001b[0mtest_it\u001b[0m\u001b[0;34m.\u001b[0m\u001b[0mfilenames\u001b[0m\u001b[0;34m)\u001b[0m\u001b[0;34m,\u001b[0m\u001b[0mverbose\u001b[0m\u001b[0;34m=\u001b[0m\u001b[0;36m1\u001b[0m\u001b[0;34m)\u001b[0m\u001b[0;34m\u001b[0m\u001b[0;34m\u001b[0m\u001b[0m\n\u001b[0m",
            "\u001b[0;31mNameError\u001b[0m: name 'model' is not defined"
          ]
        }
      ]
    },
    {
      "cell_type": "code",
      "metadata": {
        "id": "jq2lVYcBqVrQ"
      },
      "source": [
        "predicted_class_indices=np.argmax(predict,axis=1)"
      ],
      "execution_count": null,
      "outputs": []
    },
    {
      "cell_type": "code",
      "metadata": {
        "id": "jHBRpsNSy4h1"
      },
      "source": [
        "predicted_class_indices"
      ],
      "execution_count": null,
      "outputs": []
    },
    {
      "cell_type": "code",
      "metadata": {
        "id": "aZed_z8h2DJs"
      },
      "source": [
        "true=test_it.classes"
      ],
      "execution_count": null,
      "outputs": []
    },
    {
      "cell_type": "code",
      "metadata": {
        "id": "UEeBosWa2Lm2"
      },
      "source": [
        ""
      ],
      "execution_count": null,
      "outputs": []
    },
    {
      "cell_type": "code",
      "metadata": {
        "id": "Krp_OCwwqoOl"
      },
      "source": [
        "len(predictions)"
      ],
      "execution_count": null,
      "outputs": []
    },
    {
      "cell_type": "code",
      "metadata": {
        "id": "zJzXXIdmsYWX"
      },
      "source": [
        "true=[]\n",
        "for i in range(2000):\n",
        "\n",
        "  a,b=test_it.next()\n",
        "  true_class_indices=np.argmax(b,axis=1)\n",
        "  true.extend(true_class_indices.tolist())\n",
        "  "
      ],
      "execution_count": null,
      "outputs": []
    },
    {
      "cell_type": "code",
      "metadata": {
        "id": "1AlhXc08s7Ym"
      },
      "source": [
        "c=0\n",
        "for i in range(2000):\n",
        "  if predicted_class_indices[i]==true[i]:\n",
        "    c+=1\n",
        "\n",
        "print(c/2000*100)\n"
      ],
      "execution_count": null,
      "outputs": []
    },
    {
      "cell_type": "code",
      "metadata": {
        "id": "IS4Tk-WJwiDf"
      },
      "source": [
        "import matplotlib.pyplot as plt\n",
        "for i in range(2000):\n",
        "  \n",
        "  a,b = test_it.next()\n",
        "  true_class_indices = np.argmax(b, axis=1)\n",
        "  true_batch.append(a)\n",
        "  true_label.append(true_class_indices)\n",
        "\n",
        "  plt.imshow(a)\n",
        "  plt.title(str(true_class_indices) + ',' + str(predicted_class_indices[i]))\n"
      ],
      "execution_count": null,
      "outputs": []
    },
    {
      "cell_type": "code",
      "metadata": {
        "id": "omInOgQ7Bj6I"
      },
      "source": [
        ""
      ],
      "execution_count": null,
      "outputs": []
    }
  ]
}